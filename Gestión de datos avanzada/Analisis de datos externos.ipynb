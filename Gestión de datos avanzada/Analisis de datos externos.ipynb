{
 "cells": [
  {
   "cell_type": "code",
   "execution_count": 1,
   "id": "d4092f19",
   "metadata": {},
   "outputs": [],
   "source": [
    "import pandas as pd\n",
    "import numpy as np\n",
    "df = pd.read_csv(\"C:/Users/luigi/data_science/db/base_datos_2008.csv\", nrows=1000000)"
   ]
  },
  {
   "cell_type": "code",
   "execution_count": 2,
   "id": "96b09884",
   "metadata": {},
   "outputs": [],
   "source": [
    "x = df['ArrDelay'].dropna()"
   ]
  },
  {
   "cell_type": "code",
   "execution_count": 4,
   "id": "07323b86",
   "metadata": {},
   "outputs": [],
   "source": [
    "# Obteniendo cuartiles\n",
    "# Q1 = el primer 25%\n",
    "# Q2 = el ultimo 25%\n",
    "\n",
    "Q1 = np.percentile(x, 25)\n",
    "Q3 = np.percentile(x, 75)\n",
    "\n",
    "# Obteniendo el rango intercuartilico\n",
    "rangoiter = Q3 - Q1"
   ]
  },
  {
   "cell_type": "code",
   "execution_count": 5,
   "id": "ebde3d9b",
   "metadata": {},
   "outputs": [],
   "source": [
    "# Criterios\n",
    "umbralsuperior = Q3 + 1.5*rangoiter\n",
    "umbralinferior = Q1 - 1.5*rangoiter"
   ]
  },
  {
   "cell_type": "code",
   "execution_count": 6,
   "id": "57115854",
   "metadata": {},
   "outputs": [
    {
     "data": {
      "text/plain": [
       "53.5"
      ]
     },
     "execution_count": 6,
     "metadata": {},
     "output_type": "execute_result"
    }
   ],
   "source": [
    "umbralsuperior # Cualquier valor debajo arriba de 53.5 sería una uplayer"
   ]
  },
  {
   "cell_type": "code",
   "execution_count": 7,
   "id": "578313cb",
   "metadata": {},
   "outputs": [
    {
     "data": {
      "text/plain": [
       "-46.5"
      ]
     },
     "execution_count": 7,
     "metadata": {},
     "output_type": "execute_result"
    }
   ],
   "source": [
    "umbralinferior"
   ]
  },
  {
   "cell_type": "code",
   "execution_count": 10,
   "id": "aa6fe6bf",
   "metadata": {},
   "outputs": [
    {
     "data": {
      "text/plain": [
       "0.09160407350203706"
      ]
     },
     "execution_count": 10,
     "metadata": {},
     "output_type": "execute_result"
    }
   ],
   "source": [
    "np.mean(x > umbralsuperior) # Porcentaje de los casos encima del umbral"
   ]
  },
  {
   "cell_type": "code",
   "execution_count": 9,
   "id": "e3855c99",
   "metadata": {},
   "outputs": [
    {
     "data": {
      "text/plain": [
       "0.0007199379299557368"
      ]
     },
     "execution_count": 9,
     "metadata": {},
     "output_type": "execute_result"
    }
   ],
   "source": [
    "np.mean(x < umbralinferior) # porcentaje de casos debajo del umbral"
   ]
  },
  {
   "cell_type": "code",
   "execution_count": 11,
   "id": "e95febff",
   "metadata": {},
   "outputs": [],
   "source": [
    "from sklearn.covariance import EllipticEnvelope"
   ]
  },
  {
   "cell_type": "code",
   "execution_count": 12,
   "id": "3eb1e5f2",
   "metadata": {},
   "outputs": [],
   "source": [
    "# selecciona el 1% de los datos más alejados de los datos más centrados\n",
    "outliers = EllipticEnvelope(contamination= .01)"
   ]
  },
  {
   "cell_type": "code",
   "execution_count": 13,
   "id": "bfdf90c0",
   "metadata": {},
   "outputs": [
    {
     "data": {
      "text/plain": [
       "Index(['Year', 'Month', 'DayofMonth', 'DayOfWeek', 'DepTime', 'CRSDepTime',\n",
       "       'ArrTime', 'CRSArrTime', 'UniqueCarrier', 'FlightNum', 'TailNum',\n",
       "       'ActualElapsedTime', 'CRSElapsedTime', 'AirTime', 'ArrDelay',\n",
       "       'DepDelay', 'Origin', 'Dest', 'Distance', 'TaxiIn', 'TaxiOut',\n",
       "       'Cancelled', 'CancellationCode', 'Diverted', 'CarrierDelay',\n",
       "       'WeatherDelay', 'NASDelay', 'SecurityDelay', 'LateAircraftDelay'],\n",
       "      dtype='object')"
      ]
     },
     "execution_count": 13,
     "metadata": {},
     "output_type": "execute_result"
    }
   ],
   "source": [
    "df.columns"
   ]
  },
  {
   "cell_type": "code",
   "execution_count": 14,
   "id": "d4d779f9",
   "metadata": {},
   "outputs": [],
   "source": [
    "var_list = ['DepDelay', 'TaxiIn', 'TaxiOut', 'CarrierDelay', 'WeatherDelay', 'NASDelay', 'SecurityDelay', 'LateAircraftDelay']"
   ]
  },
  {
   "cell_type": "code",
   "execution_count": 15,
   "id": "d23ac50f",
   "metadata": {},
   "outputs": [],
   "source": [
    "x = np.array(df.loc[:, var_list].dropna())"
   ]
  },
  {
   "cell_type": "code",
   "execution_count": 16,
   "id": "3e99194e",
   "metadata": {},
   "outputs": [
    {
     "data": {
      "text/plain": [
       "EllipticEnvelope(contamination=0.01)"
      ]
     },
     "execution_count": 16,
     "metadata": {},
     "output_type": "execute_result"
    }
   ],
   "source": [
    "outliers.fit(x)"
   ]
  },
  {
   "cell_type": "code",
   "execution_count": 17,
   "id": "8aa17391",
   "metadata": {},
   "outputs": [],
   "source": [
    "pred = outliers.predict(x)"
   ]
  },
  {
   "cell_type": "code",
   "execution_count": 18,
   "id": "ed34be37",
   "metadata": {},
   "outputs": [
    {
     "data": {
      "text/plain": [
       "array([1, 1, 1, ..., 1, 1, 1])"
      ]
     },
     "execution_count": 18,
     "metadata": {},
     "output_type": "execute_result"
    }
   ],
   "source": [
    "pred"
   ]
  },
  {
   "cell_type": "code",
   "execution_count": 19,
   "id": "cacfe5b3",
   "metadata": {},
   "outputs": [],
   "source": [
    "elips_outliters = np.where(pred == -1)[0]"
   ]
  },
  {
   "cell_type": "code",
   "execution_count": 20,
   "id": "404e5b85",
   "metadata": {},
   "outputs": [
    {
     "data": {
      "text/plain": [
       "array([   444,   1412,   1503, ..., 253748, 253881, 254080], dtype=int64)"
      ]
     },
     "execution_count": 20,
     "metadata": {},
     "output_type": "execute_result"
    }
   ],
   "source": [
    "elips_outliters"
   ]
  },
  {
   "cell_type": "code",
   "execution_count": null,
   "id": "0712ad85",
   "metadata": {},
   "outputs": [],
   "source": []
  }
 ],
 "metadata": {
  "kernelspec": {
   "display_name": "Python 3 (ipykernel)",
   "language": "python",
   "name": "python3"
  },
  "language_info": {
   "codemirror_mode": {
    "name": "ipython",
    "version": 3
   },
   "file_extension": ".py",
   "mimetype": "text/x-python",
   "name": "python",
   "nbconvert_exporter": "python",
   "pygments_lexer": "ipython3",
   "version": "3.9.12"
  }
 },
 "nbformat": 4,
 "nbformat_minor": 5
}
