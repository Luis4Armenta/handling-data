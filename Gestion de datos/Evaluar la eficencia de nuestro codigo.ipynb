{
 "cells": [
  {
   "cell_type": "code",
   "execution_count": 5,
   "id": "6076b399",
   "metadata": {},
   "outputs": [
    {
     "name": "stdout",
     "output_type": "stream",
     "text": [
      "0.5077316761016846\n"
     ]
    }
   ],
   "source": [
    "import time\n",
    "\n",
    "start = time.time()\n",
    "\n",
    "time.sleep(0.5)\n",
    "\n",
    "# Nuestro código.\n",
    "end = time.time()\n",
    "\n",
    "print(end - start)"
   ]
  },
  {
   "cell_type": "code",
   "execution_count": 7,
   "id": "a626490f",
   "metadata": {},
   "outputs": [
    {
     "name": "stdout",
     "output_type": "stream",
     "text": [
      "0:00:01\n"
     ]
    }
   ],
   "source": [
    "from datetime import timedelta\n",
    "\n",
    "start = time.monotonic()\n",
    "\n",
    "# Nuestro código\n",
    "time.sleep(1)\n",
    "\n",
    "end = time.monotonic()\n",
    "\n",
    "print(timedelta(seconds = end - start))"
   ]
  },
  {
   "cell_type": "code",
   "execution_count": 10,
   "id": "f9aaae19",
   "metadata": {},
   "outputs": [
    {
     "name": "stdout",
     "output_type": "stream",
     "text": [
      "True\n"
     ]
    }
   ],
   "source": [
    "start = time.time()\n",
    "\n",
    "# Nuestro código.\n",
    "time.sleep(0.5)\n",
    "\n",
    "end = time.time()\n",
    "\n",
    "start2 = time.time()\n",
    "\n",
    "# Nuestro código.\n",
    "time.sleep(0.501)\n",
    "\n",
    "end2 = time.time()\n",
    "\n",
    "\n",
    "print(end - start > end2 - start2)"
   ]
  },
  {
   "cell_type": "code",
   "execution_count": null,
   "id": "7caa027d",
   "metadata": {},
   "outputs": [],
   "source": []
  }
 ],
 "metadata": {
  "kernelspec": {
   "display_name": "Python 3 (ipykernel)",
   "language": "python",
   "name": "python3"
  },
  "language_info": {
   "codemirror_mode": {
    "name": "ipython",
    "version": 3
   },
   "file_extension": ".py",
   "mimetype": "text/x-python",
   "name": "python",
   "nbconvert_exporter": "python",
   "pygments_lexer": "ipython3",
   "version": "3.9.12"
  }
 },
 "nbformat": 4,
 "nbformat_minor": 5
}
