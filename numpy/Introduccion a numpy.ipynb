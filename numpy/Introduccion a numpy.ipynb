{
 "cells": [
  {
   "cell_type": "code",
   "execution_count": 1,
   "id": "0de680c9",
   "metadata": {},
   "outputs": [],
   "source": [
    "import numpy as np"
   ]
  },
  {
   "cell_type": "code",
   "execution_count": 2,
   "id": "89a97a18",
   "metadata": {},
   "outputs": [
    {
     "data": {
      "text/plain": [
       "array([[8, 7, 8, 5],\n",
       "       [2, 6, 8, 1],\n",
       "       [8, 8, 9, 5]])"
      ]
     },
     "execution_count": 2,
     "metadata": {},
     "output_type": "execute_result"
    }
   ],
   "source": [
    "valoraciones = np.array([[8,7,8,5], [2,6,8,1], [8,8,9,5]])\n",
    "valoraciones"
   ]
  },
  {
   "cell_type": "code",
   "execution_count": 3,
   "id": "1b8536f4",
   "metadata": {},
   "outputs": [
    {
     "data": {
      "text/plain": [
       "7"
      ]
     },
     "execution_count": 3,
     "metadata": {},
     "output_type": "execute_result"
    }
   ],
   "source": [
    "valoraciones[0][1]"
   ]
  },
  {
   "cell_type": "code",
   "execution_count": 4,
   "id": "ea73277b",
   "metadata": {},
   "outputs": [
    {
     "data": {
      "text/plain": [
       "7"
      ]
     },
     "execution_count": 4,
     "metadata": {},
     "output_type": "execute_result"
    }
   ],
   "source": [
    "valoraciones[0,1]"
   ]
  },
  {
   "cell_type": "code",
   "execution_count": 18,
   "id": "d39ab4a3",
   "metadata": {},
   "outputs": [],
   "source": [
    "valoraciones2 = np.array([[[8,7,8,5], [2,6,11,1]], [[7,5,2,12], [1,3,1,1]], [[9,10,1,6], [3,6,8,0]]])"
   ]
  },
  {
   "cell_type": "code",
   "execution_count": 19,
   "id": "f7151862",
   "metadata": {},
   "outputs": [
    {
     "data": {
      "text/plain": [
       "array([[[ 8,  7,  8,  5],\n",
       "        [ 2,  6, 11,  1]],\n",
       "\n",
       "       [[ 7,  5,  2, 12],\n",
       "        [ 1,  3,  1,  1]],\n",
       "\n",
       "       [[ 9, 10,  1,  6],\n",
       "        [ 3,  6,  8,  0]]])"
      ]
     },
     "execution_count": 19,
     "metadata": {},
     "output_type": "execute_result"
    }
   ],
   "source": [
    "valoraciones2"
   ]
  },
  {
   "cell_type": "code",
   "execution_count": 20,
   "id": "df9c41e7",
   "metadata": {},
   "outputs": [
    {
     "data": {
      "text/plain": [
       "11"
      ]
     },
     "execution_count": 20,
     "metadata": {},
     "output_type": "execute_result"
    }
   ],
   "source": [
    "valoraciones2[0, 1, 2]"
   ]
  },
  {
   "cell_type": "code",
   "execution_count": 21,
   "id": "bf2e0f7d",
   "metadata": {},
   "outputs": [
    {
     "data": {
      "text/plain": [
       "array([[[0., 0., 0., 0.],\n",
       "        [0., 0., 0., 0.]],\n",
       "\n",
       "       [[0., 0., 0., 0.],\n",
       "        [0., 0., 0., 0.]],\n",
       "\n",
       "       [[0., 0., 0., 0.],\n",
       "        [0., 0., 0., 0.]]])"
      ]
     },
     "execution_count": 21,
     "metadata": {},
     "output_type": "execute_result"
    }
   ],
   "source": [
    "np.zeros((3,2,4))"
   ]
  },
  {
   "cell_type": "code",
   "execution_count": 22,
   "id": "405d14b4",
   "metadata": {},
   "outputs": [
    {
     "data": {
      "text/plain": [
       "array([[[ 9.,  8.,  9.,  6.],\n",
       "        [ 3.,  7., 12.,  2.]],\n",
       "\n",
       "       [[ 8.,  6.,  3., 13.],\n",
       "        [ 2.,  4.,  2.,  2.]],\n",
       "\n",
       "       [[10., 11.,  2.,  7.],\n",
       "        [ 4.,  7.,  9.,  1.]]])"
      ]
     },
     "execution_count": 22,
     "metadata": {},
     "output_type": "execute_result"
    }
   ],
   "source": [
    "valoraciones2 + np.ones((3,2,4))"
   ]
  },
  {
   "cell_type": "code",
   "execution_count": 23,
   "id": "9a342407",
   "metadata": {},
   "outputs": [
    {
     "data": {
      "text/plain": [
       "5.125"
      ]
     },
     "execution_count": 23,
     "metadata": {},
     "output_type": "execute_result"
    }
   ],
   "source": [
    "np.mean(valoraciones2)"
   ]
  },
  {
   "cell_type": "code",
   "execution_count": 27,
   "id": "439118ca",
   "metadata": {},
   "outputs": [
    {
     "data": {
      "text/plain": [
       "array([[7.  , 5.  ],\n",
       "       [6.5 , 1.5 ],\n",
       "       [6.5 , 4.25]])"
      ]
     },
     "execution_count": 27,
     "metadata": {},
     "output_type": "execute_result"
    }
   ],
   "source": [
    "np.mean(valoraciones2, axis=2)"
   ]
  },
  {
   "cell_type": "code",
   "execution_count": 28,
   "id": "a80d4860",
   "metadata": {},
   "outputs": [
    {
     "data": {
      "text/plain": [
       "array([[[ 1,  2],\n",
       "        [ 3,  4]],\n",
       "\n",
       "       [[ 5,  6],\n",
       "        [ 7,  8]],\n",
       "\n",
       "       [[ 9, 10],\n",
       "        [11, 12]]])"
      ]
     },
     "execution_count": 28,
     "metadata": {},
     "output_type": "execute_result"
    }
   ],
   "source": [
    "np.reshape([1,2,3,4,5,6,7,8,9,10,11,12], (3,2,2))"
   ]
  },
  {
   "cell_type": "code",
   "execution_count": null,
   "id": "2cde629f",
   "metadata": {},
   "outputs": [],
   "source": [
    " np.median(df['Columna1'])"
   ]
  },
  {
   "cell_type": "code",
   "execution_count": null,
   "id": "952e7f4a",
   "metadata": {},
   "outputs": [],
   "source": [
    "np.random.rand(2,2)"
   ]
  }
 ],
 "metadata": {
  "kernelspec": {
   "display_name": "Python 3 (ipykernel)",
   "language": "python",
   "name": "python3"
  },
  "language_info": {
   "codemirror_mode": {
    "name": "ipython",
    "version": 3
   },
   "file_extension": ".py",
   "mimetype": "text/x-python",
   "name": "python",
   "nbconvert_exporter": "python",
   "pygments_lexer": "ipython3",
   "version": "3.9.12"
  }
 },
 "nbformat": 4,
 "nbformat_minor": 5
}
